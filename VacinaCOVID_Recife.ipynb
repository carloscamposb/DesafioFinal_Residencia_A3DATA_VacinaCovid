{
  "nbformat": 4,
  "nbformat_minor": 0,
  "metadata": {
    "colab": {
      "provenance": [],
      "collapsed_sections": [
        "u5FtANGMUTdA",
        "iIK_xSTjUV69",
        "f8aX6xERR4ML"
      ],
      "toc_visible": true,
      "include_colab_link": true
    },
    "kernelspec": {
      "name": "python3",
      "display_name": "Python 3"
    },
    "language_info": {
      "name": "python"
    }
  },
  "cells": [
    {
      "cell_type": "markdown",
      "metadata": {
        "id": "view-in-github",
        "colab_type": "text"
      },
      "source": [
        "<a href=\"https://colab.research.google.com/github/xavierruth/DesafioFinal_Residencia_PortoDigital_VacinaCovid/blob/main/VacinaCOVID_Recife.ipynb\" target=\"_parent\"><img src=\"https://colab.research.google.com/assets/colab-badge.svg\" alt=\"Open In Colab\"/></a>"
      ]
    },
    {
      "cell_type": "markdown",
      "source": [
        "# Bronze"
      ],
      "metadata": {
        "id": "u5FtANGMUTdA"
      }
    },
    {
      "cell_type": "code",
      "execution_count": null,
      "metadata": {
        "id": "8WA43u2AUDx6",
        "colab": {
          "base_uri": "https://localhost:8080/"
        },
        "outputId": "2fb0fb35-d768-4e67-f592-109a30035d6b"
      },
      "outputs": [
        {
          "output_type": "stream",
          "name": "stdout",
          "text": [
            "Get:1 http://security.ubuntu.com/ubuntu jammy-security InRelease [129 kB]\n",
            "Get:2 https://cloud.r-project.org/bin/linux/ubuntu jammy-cran40/ InRelease [3,626 B]\n",
            "Hit:3 https://developer.download.nvidia.com/compute/cuda/repos/ubuntu2204/x86_64  InRelease\n",
            "Hit:4 http://archive.ubuntu.com/ubuntu jammy InRelease\n",
            "Get:5 http://archive.ubuntu.com/ubuntu jammy-updates InRelease [128 kB]\n",
            "Hit:6 https://ppa.launchpadcontent.net/c2d4u.team/c2d4u4.0+/ubuntu jammy InRelease\n",
            "Get:7 http://security.ubuntu.com/ubuntu jammy-security/universe amd64 Packages [1,090 kB]\n",
            "Hit:8 https://ppa.launchpadcontent.net/deadsnakes/ppa/ubuntu jammy InRelease\n",
            "Get:9 http://security.ubuntu.com/ubuntu jammy-security/restricted amd64 Packages [2,464 kB]\n",
            "Hit:10 https://ppa.launchpadcontent.net/graphics-drivers/ppa/ubuntu jammy InRelease\n",
            "Hit:11 http://archive.ubuntu.com/ubuntu jammy-backports InRelease\n",
            "Get:12 http://security.ubuntu.com/ubuntu jammy-security/main amd64 Packages [1,908 kB]\n",
            "Hit:13 https://ppa.launchpadcontent.net/ubuntugis/ppa/ubuntu jammy InRelease\n",
            "Get:14 http://archive.ubuntu.com/ubuntu jammy-updates/main amd64 Packages [2,183 kB]\n",
            "Get:15 http://archive.ubuntu.com/ubuntu jammy-updates/restricted amd64 Packages [2,542 kB]\n",
            "Get:16 http://archive.ubuntu.com/ubuntu jammy-updates/universe amd64 Packages [1,391 kB]\n",
            "Fetched 11.8 MB in 15s (806 kB/s)\n",
            "Reading package lists...\n",
            "     ━━━━━━━━━━━━━━━━━━━━━━━━━━━━━━━━━━━━━━━━ 317.0/317.0 MB 2.8 MB/s eta 0:00:00\n"
          ]
        }
      ],
      "source": [
        "%%bash\n",
        "# Instal Java\n",
        "apt-get update && apt-get install openjdk-8-jdk-headless -qq > /dev/null\n",
        "\n",
        "# Install PySpark\n",
        "pip install -q pyspark"
      ]
    },
    {
      "cell_type": "code",
      "source": [
        "import os\n",
        "os.environ['JAVA_HOME'] = '/usr/lib/jvm/java-8-openjdk-amd64'"
      ],
      "metadata": {
        "id": "9EtfkJwwUdx0"
      },
      "execution_count": null,
      "outputs": []
    },
    {
      "cell_type": "code",
      "source": [
        "# Definindo o ambiente Spark\n",
        "from pyspark.sql import SparkSession\n",
        "from pyspark.sql import functions as f"
      ],
      "metadata": {
        "id": "M00CYf57Ufqe"
      },
      "execution_count": null,
      "outputs": []
    },
    {
      "cell_type": "code",
      "source": [
        "spark = SparkSession.builder.getOrCreate()"
      ],
      "metadata": {
        "id": "_n9mI42YUhQW"
      },
      "execution_count": null,
      "outputs": []
    },
    {
      "cell_type": "code",
      "source": [
        "%%bash\n",
        "# Baixando dados com nomes únicos\n",
        "curl -o vacinados_21.csv http://dados.recife.pe.gov.br/dataset/7ccb3816-0d62-49e1-b39a-3159870883b0/resource/99b42b09-95af-47de-8411-ab99c380c3ef/download/vacinados.csv\n",
        "curl -o vacinados_22.csv http://dados.recife.pe.gov.br/dataset/7ccb3816-0d62-49e1-b39a-3159870883b0/resource/9664de94-9f07-4adc-848d-b6ef56510762/download/vacinados.csv\n",
        "curl -o vacinados_23.csv http://dados.recife.pe.gov.br/dataset/7ccb3816-0d62-49e1-b39a-3159870883b0/resource/ca7fb968-3a2c-44ff-a2e8-730d1a689407/download/vacinados.csv\n"
      ],
      "metadata": {
        "collapsed": true,
        "id": "X43sETRUUir0"
      },
      "execution_count": null,
      "outputs": []
    },
    {
      "cell_type": "code",
      "source": [
        "!ls -lh vacinados_*.csv"
      ],
      "metadata": {
        "id": "xa1o9vFDUlMQ"
      },
      "execution_count": null,
      "outputs": []
    },
    {
      "cell_type": "code",
      "source": [
        "# Verificando se os arquivos existem\n",
        "import os\n",
        "print(os.listdir('.'))"
      ],
      "metadata": {
        "id": "uNXhs_moUmmW"
      },
      "execution_count": null,
      "outputs": []
    },
    {
      "cell_type": "code",
      "source": [
        "# Carregando os dados no PySpark com o delimitador correto\n",
        "df1 = spark.read.option(\"delimiter\", \";\").csv('vacinados_21.csv', header=True, inferSchema=True)\n",
        "df2 = spark.read.option(\"delimiter\", \";\").csv('vacinados_22.csv', header=True, inferSchema=True)\n",
        "df3 = spark.read.option(\"delimiter\", \";\").csv('vacinados_23.csv', header=True, inferSchema=True)"
      ],
      "metadata": {
        "id": "-l2hMaNxUoIO"
      },
      "execution_count": null,
      "outputs": []
    },
    {
      "cell_type": "code",
      "source": [
        "# Exibindo os dados para verificar a leitura\n",
        "df1.show()\n",
        "df2.show()\n",
        "df3.show()"
      ],
      "metadata": {
        "collapsed": true,
        "id": "suHfQt4oUp_E"
      },
      "execution_count": null,
      "outputs": []
    },
    {
      "cell_type": "code",
      "source": [
        "# Verificar o esquema dos DataFrames\n",
        "\n",
        "df1.printSchema()\n",
        "df2.printSchema()\n",
        "df3.printSchema()"
      ],
      "metadata": {
        "collapsed": true,
        "id": "feoUZlEZUska"
      },
      "execution_count": null,
      "outputs": []
    },
    {
      "cell_type": "code",
      "source": [
        "# Função para contar valores nulos\n",
        "def count_nulls(df):\n",
        "    return df.select([f.count(f.when(f.col(c).isNull(), c)).alias(c) for c in df.columns]).show()"
      ],
      "metadata": {
        "id": "cGlUflIxUvup"
      },
      "execution_count": null,
      "outputs": []
    },
    {
      "cell_type": "code",
      "source": [
        "# Função para contar valores em branco\n",
        "def count_blanks(df):\n",
        "    return df.select([f.count(f.when(f.col(c) == \"\", c)).alias(c) for c in df.columns]).show()"
      ],
      "metadata": {
        "id": "oiCrtcE5UuOs"
      },
      "execution_count": null,
      "outputs": []
    },
    {
      "cell_type": "code",
      "source": [
        "# Contar valores nulos e em branco em vacinados_2021\n",
        "print(\"Valores nulos em vacinados_21:\")\n",
        "count_nulls(df1)\n",
        "print(\"Valores em branco em vacinados_21:\")\n",
        "count_blanks(df1)"
      ],
      "metadata": {
        "collapsed": true,
        "id": "pgqO-Q7SUzOB"
      },
      "execution_count": null,
      "outputs": []
    },
    {
      "cell_type": "code",
      "source": [
        "# Contar valores nulos e em branco em vacinados_2022\n",
        "print(\"Valores nulos em vacinados_22:\")\n",
        "count_nulls(df2)\n",
        "print(\"Valores em branco em vacinados_22:\")\n",
        "count_blanks(df2)"
      ],
      "metadata": {
        "collapsed": true,
        "id": "3rei7IbDU2kK"
      },
      "execution_count": null,
      "outputs": []
    },
    {
      "cell_type": "code",
      "source": [
        "# Contar valores nulos e em branco em vacinados_2023\n",
        "print(\"Valores nulos em vacinados_23:\")\n",
        "count_nulls(df3)\n",
        "print(\"Valores em branco em vacinados_23:\")\n",
        "count_blanks(df3)"
      ],
      "metadata": {
        "collapsed": true,
        "id": "OLRisqkyU3Ka"
      },
      "execution_count": null,
      "outputs": []
    },
    {
      "cell_type": "code",
      "source": [
        "# Salvando os DataFrames em formato Parquet\n",
        "df1.write.parquet('bronze/vacinados_21.parquet')\n",
        "df2.write.parquet('bronze/vacinados_22.parquet')\n",
        "df3.write.parquet('bronze/vacinados_23.parquet')"
      ],
      "metadata": {
        "id": "OuGyWHiEU438",
        "collapsed": true
      },
      "execution_count": null,
      "outputs": []
    },
    {
      "cell_type": "code",
      "source": [
        "# Confirmando a criação dos arquivos Parquet\n",
        "print(\"Arquivos Parquet criados:\")\n",
        "print(os.listdir('.'))"
      ],
      "metadata": {
        "id": "ikXek34pU6xR"
      },
      "execution_count": null,
      "outputs": []
    },
    {
      "cell_type": "markdown",
      "source": [
        "# Silver"
      ],
      "metadata": {
        "id": "iIK_xSTjUV69"
      }
    },
    {
      "cell_type": "code",
      "source": [
        "from pyspark.sql import SparkSession\n",
        "from pyspark.sql.functions import col, trim, lower"
      ],
      "metadata": {
        "id": "J7Ttcl5UUXRA"
      },
      "execution_count": null,
      "outputs": []
    },
    {
      "cell_type": "code",
      "source": [
        "# Iniciar sessão Spark\n",
        "spark = SparkSession.builder.getOrCreate()"
      ],
      "metadata": {
        "id": "wpL4Mz8tYSLb"
      },
      "execution_count": null,
      "outputs": []
    },
    {
      "cell_type": "code",
      "source": [
        "# Carregar os dados do estágio Bronze\n",
        "bronze_df1 = spark.read.parquet('bronze/vacinados_21.parquet')\n",
        "bronze_df2 = spark.read.parquet('bronze/vacinados_22.parquet')\n",
        "bronze_df3 = spark.read.parquet('bronze/vacinados_23.parquet')\n"
      ],
      "metadata": {
        "id": "tnBQwuL3YU4I"
      },
      "execution_count": null,
      "outputs": []
    },
    {
      "cell_type": "code",
      "source": [
        "# Exibindo os dados para verificar a leitura\n",
        "df1.show()\n",
        "df2.show()\n",
        "df3.show()"
      ],
      "metadata": {
        "collapsed": true,
        "id": "Rf69YALnYixx"
      },
      "execution_count": null,
      "outputs": []
    },
    {
      "cell_type": "code",
      "source": [
        "# Verificar o esquema dos DataFrames\n",
        "\n",
        "df1.printSchema()\n",
        "df2.printSchema()\n",
        "df3.printSchema()"
      ],
      "metadata": {
        "collapsed": true,
        "id": "m4QO31yYZNDq"
      },
      "execution_count": null,
      "outputs": []
    },
    {
      "cell_type": "code",
      "source": [
        "# Remover linhas onde qualquer valor é nulo\n",
        "df1_cleaned = df1.dropna()\n",
        "df2_cleaned = df2.dropna()\n",
        "df3_cleaned = df3.dropna()"
      ],
      "metadata": {
        "id": "0jd3jsP9ZVjX"
      },
      "execution_count": null,
      "outputs": []
    },
    {
      "cell_type": "code",
      "source": [
        "# Exibir os DataFrames limpos\n",
        "df1_cleaned.show()\n",
        "df2_cleaned.show()\n",
        "df3_cleaned.show()"
      ],
      "metadata": {
        "collapsed": true,
        "id": "ULEf8X-rZbVM"
      },
      "execution_count": null,
      "outputs": []
    },
    {
      "cell_type": "code",
      "source": [
        "# Verificar o esquema dos DataFrames limpos\n",
        "df1_cleaned.printSchema()\n",
        "df2_cleaned.printSchema()\n",
        "df3_cleaned.printSchema()"
      ],
      "metadata": {
        "collapsed": true,
        "id": "0XMIkA_UZbxW"
      },
      "execution_count": null,
      "outputs": []
    },
    {
      "cell_type": "code",
      "source": [
        "# Função para contar valores nulos\n",
        "def count_nulls(df):\n",
        "    return df.select([f.count(f.when(f.col(c).isNull(), c)).alias(c) for c in df.columns]).show()\n",
        "\n",
        "print(\"Valores nulos em df1_cleaned:\")\n",
        "count_nulls(df1_cleaned)\n",
        "\n",
        "print(\"Valores nulos em df2_cleaned:\")\n",
        "count_nulls(df2_cleaned)\n",
        "\n",
        "print(\"Valores nulos em df3_cleaned:\")\n",
        "count_nulls(df3_cleaned)"
      ],
      "metadata": {
        "collapsed": true,
        "id": "ZFvluaDhZjKN"
      },
      "execution_count": null,
      "outputs": []
    },
    {
      "cell_type": "code",
      "source": [
        "# Exibir os DataFrames limpos\n",
        "print(\"Dados limpos de vacinados_21.csv:\")\n",
        "df1_cleaned.show(15)\n",
        "print(\"Dados limpos de vacinados_22.csv:\")\n",
        "df2_cleaned.show(15)\n",
        "print(\"Dados limpos de vacinados_23.csv:\")\n",
        "df3_cleaned.show(15)\n"
      ],
      "metadata": {
        "id": "6aupeofSZqJb",
        "collapsed": true
      },
      "execution_count": null,
      "outputs": []
    },
    {
      "cell_type": "code",
      "source": [
        "# Função para verificar duplicatas em um DataFrame\n",
        "def check_duplicates(df, df_name):\n",
        "    duplicates = df.groupBy(df.columns).count().filter(col(\"count\") > 1)\n",
        "    num_duplicates = duplicates.count()\n",
        "    if num_duplicates > 0:\n",
        "        print(f\"O DataFrame {df_name} tem {num_duplicates} registros duplicados.\")\n",
        "        duplicates.show()\n",
        "    else:\n",
        "        print(f\"O DataFrame {df_name} não tem registros duplicados.\")"
      ],
      "metadata": {
        "id": "erGhevxWbS-1"
      },
      "execution_count": null,
      "outputs": []
    },
    {
      "cell_type": "code",
      "source": [
        "# Verificar duplicatas antes de combinar\n",
        "check_duplicates(bronze_df1, \"bronze_df1\")\n",
        "check_duplicates(bronze_df2, \"bronze_df2\")\n",
        "check_duplicates(bronze_df3, \"bronze_df3\")"
      ],
      "metadata": {
        "collapsed": true,
        "id": "fu_4XNyJbWpQ"
      },
      "execution_count": null,
      "outputs": []
    },
    {
      "cell_type": "markdown",
      "source": [
        "***Vacinados em 2021 relações dentro das tabelas***"
      ],
      "metadata": {
        "id": "xcM3kp2PdYqK"
      }
    },
    {
      "cell_type": "code",
      "source": [
        "# Registrar a df1 como uma tabela temporária para uso no Spark SQL\n",
        "df1.createOrReplaceTempView(\"df1\")"
      ],
      "metadata": {
        "id": "FYYxwI6Uh89X"
      },
      "execution_count": null,
      "outputs": []
    },
    {
      "cell_type": "markdown",
      "source": [
        "Inner Join - saber qual as 4 vacinas mais ministradas em 2021 e as datas com mais vacinações\n",
        "\n",
        "Com base nesse inner join podemos avaliar qual vacina mais aplicada e o gênero que mais se vacinou em 2021"
      ],
      "metadata": {
        "id": "eD2wUChAiIgV"
      }
    },
    {
      "cell_type": "code",
      "source": [
        "# Qual a vacina, o seu total e sexo mais frequente em 2021?\n",
        "join_query_1 = \"\"\"\n",
        "SELECT t.vacina_fabricante,\n",
        "       t.total_vacinacoes,\n",
        "       d.sexo_mais_frequente\n",
        "FROM (\n",
        "    SELECT vacina_fabricante, COUNT(*) AS total_vacinacoes,\n",
        "           ROW_NUMBER() OVER (ORDER BY COUNT(*) DESC) AS rank\n",
        "    FROM df1\n",
        "    GROUP BY vacina_fabricante\n",
        ") t\n",
        "JOIN (\n",
        "    SELECT vacina_fabricante, sexo AS sexo_mais_frequente\n",
        "    FROM (\n",
        "        SELECT vacina_fabricante, sexo, COUNT(*) AS total_vacinacoes,\n",
        "               ROW_NUMBER() OVER (PARTITION BY vacina_fabricante ORDER BY COUNT(*) DESC) AS rank\n",
        "        FROM df1\n",
        "        GROUP BY vacina_fabricante, sexo\n",
        "    ) sub\n",
        "    WHERE sub.rank = 1\n",
        ") d\n",
        "ON t.vacina_fabricante = d.vacina_fabricante\n",
        "WHERE t.rank <= 4\n",
        "ORDER BY t.total_vacinacoes desc\n",
        "\"\"\"\n"
      ],
      "metadata": {
        "id": "172LVP7NiCLT"
      },
      "execution_count": null,
      "outputs": []
    },
    {
      "cell_type": "code",
      "source": [
        "# Exibir o resultado 1\n",
        "df_join_1 = spark.sql(join_query_1)\n",
        "df_join_1.show()\n"
      ],
      "metadata": {
        "id": "XtZO3FLliW4G",
        "collapsed": true
      },
      "execution_count": null,
      "outputs": []
    },
    {
      "cell_type": "markdown",
      "source": [
        "Concatenação, soma, agrupar e ordenar - saber qual o gênero que mais se vacinou no ano de 2021"
      ],
      "metadata": {
        "id": "5SZoM5CHjjbP"
      }
    },
    {
      "cell_type": "code",
      "source": [
        "# Qual os dados por faixa-etaria, sexo, raça, grupo que essas pessoas que se vacinaram em 2021 representam?\n",
        "join_query_2 = \"\"\"\n",
        "SELECT faixa_etaria, sexo, raca_cor, grupo,\n",
        "       COUNT(*) AS total_por_genero,\n",
        "       CONCAT(ROUND(COUNT(*) * 100.0 / SUM(COUNT(*)) OVER(), 2), '%') AS percentual\n",
        "FROM df1\n",
        "GROUP BY faixa_etaria, sexo, raca_cor, grupo\n",
        "ORDER BY total_por_genero DESC\n",
        "\"\"\"\n"
      ],
      "metadata": {
        "id": "4lgjkzPZmPei"
      },
      "execution_count": null,
      "outputs": []
    },
    {
      "cell_type": "code",
      "source": [
        "# Exibir o resultado 2\n",
        "df_join_2 = spark.sql(join_query_2)\n",
        "df_join_2.show()\n"
      ],
      "metadata": {
        "id": "cvCKxSXRmmxy",
        "collapsed": true
      },
      "execution_count": null,
      "outputs": []
    },
    {
      "cell_type": "markdown",
      "source": [
        "Join 3 - Total de grupos por datas que se vacinaram"
      ],
      "metadata": {
        "id": "h1Hi5wejmxtM"
      }
    },
    {
      "cell_type": "code",
      "source": [
        "# Consulta SQL para calcular as top 10 combinações de município, raça, sexo e grupo mais frequentes, com o percentual por município e ordenação por rank\n",
        "top_combinacoes_query = \"\"\"\n",
        "WITH total_combinacoes AS (\n",
        "    SELECT\n",
        "        municipio AS municipio_total,\n",
        "        raca_cor AS raca_cor_total,\n",
        "        sexo AS sexo_total,\n",
        "        COUNT(*) AS total_combinacoes\n",
        "    FROM\n",
        "        df1\n",
        "    WHERE\n",
        "        municipio IS NOT NULL\n",
        "        AND raca_cor IS NOT NULL\n",
        "        AND sexo IS NOT NULL\n",
        "    GROUP BY\n",
        "        municipio, raca_cor, sexo\n",
        ")\n",
        "SELECT\n",
        "    df1.municipio AS municipio_df1,\n",
        "    df1.raca_cor AS raca_cor_df1,\n",
        "    df1.sexo,\n",
        "    df1.grupo,\n",
        "    df1.data_vacinacao,\n",
        "    CONCAT(ROUND(COUNT(*) * 100.0 / t.total_combinacoes, 2), '%') AS percentual,\n",
        "    ROW_NUMBER() OVER (ORDER BY COUNT(*) DESC) AS rank\n",
        "FROM\n",
        "    df1\n",
        "JOIN\n",
        "    total_combinacoes t\n",
        "ON\n",
        "    df1.municipio = t.municipio_total\n",
        "    AND df1.raca_cor = t.raca_cor_total\n",
        "    AND df1.sexo = t.sexo_total\n",
        "GROUP BY\n",
        "    municipio_df1, raca_cor_df1, sexo, grupo, data_vacinacao, t.total_combinacoes\n",
        "ORDER BY\n",
        "    rank\n",
        "LIMIT 10\n",
        "\"\"\"\n",
        "\n",
        "# Executar a consulta SQL para obter as top 10 combinações\n",
        "df_top_combinacoes = spark.sql(top_combinacoes_query)\n",
        "df_top_combinacoes.show()\n"
      ],
      "metadata": {
        "id": "ghmqBkkAmxPy",
        "collapsed": true
      },
      "execution_count": null,
      "outputs": []
    },
    {
      "cell_type": "markdown",
      "source": [
        "***Vacinados em 2022 relação entre as tabelas***"
      ],
      "metadata": {
        "id": "bHTohpCA1qQ5"
      }
    },
    {
      "cell_type": "code",
      "source": [
        "# Registrar a df2 como uma tabela temporária para uso no Spark SQL\n",
        "df2.createOrReplaceTempView(\"df2\")\n"
      ],
      "metadata": {
        "id": "s3ClVtpFua20"
      },
      "execution_count": null,
      "outputs": []
    },
    {
      "cell_type": "code",
      "source": [
        "# Qual a vacina, o seu total e sexo mais frequente em 2022?\n",
        "join_df2 = \"\"\"\n",
        "SELECT t.vacina_fabricante,\n",
        "       t.total_vacinacoes,\n",
        "       d.sexo_mais_frequente\n",
        "FROM (\n",
        "    SELECT vacina_fabricante, COUNT(*) AS total_vacinacoes,\n",
        "           ROW_NUMBER() OVER (ORDER BY COUNT(*) DESC) AS rank\n",
        "    FROM df2\n",
        "    GROUP BY vacina_fabricante\n",
        ") t\n",
        "JOIN (\n",
        "    SELECT vacina_fabricante, sexo AS sexo_mais_frequente\n",
        "    FROM (\n",
        "        SELECT vacina_fabricante, sexo, COUNT(*) AS total_vacinacoes,\n",
        "               ROW_NUMBER() OVER (PARTITION BY vacina_fabricante ORDER BY COUNT(*) DESC) AS rank\n",
        "        FROM df2\n",
        "        GROUP BY vacina_fabricante, sexo\n",
        "    ) sub\n",
        "    WHERE sub.rank = 1\n",
        ") d\n",
        "ON t.vacina_fabricante = d.vacina_fabricante\n",
        "WHERE t.rank <= 4\n",
        "ORDER BY t.total_vacinacoes desc\n",
        "\"\"\""
      ],
      "metadata": {
        "id": "RmVwEazz2EIh"
      },
      "execution_count": null,
      "outputs": []
    },
    {
      "cell_type": "code",
      "source": [
        "# Exibir o resultado 2\n",
        "df_join_df2 = spark.sql(join_df2)\n",
        "df_join_df2.show()"
      ],
      "metadata": {
        "id": "NkGjn1HV2OXv"
      },
      "execution_count": null,
      "outputs": []
    },
    {
      "cell_type": "markdown",
      "source": [
        "Concatenação, soma, agrupar e ordenar - saber qual o gênero que mais se vacinou no ano de 2022"
      ],
      "metadata": {
        "id": "qJ6GcMnl2sMK"
      }
    },
    {
      "cell_type": "code",
      "source": [
        "# Qual os dados por faixa-etaria, sexo, raça, grupo que essas pessoas que se vacinaram em 2022 representam?\n",
        "join_df2_2 = \"\"\"\n",
        "SELECT faixa_etaria, sexo, raca_cor, grupo,\n",
        "       COUNT(*) AS total_por_genero,\n",
        "       CONCAT(ROUND(COUNT(*) * 100.0 / SUM(COUNT(*)) OVER(), 2), '%') AS percentual\n",
        "FROM df2\n",
        "GROUP BY faixa_etaria, sexo, raca_cor, grupo\n",
        "ORDER BY total_por_genero DESC\n",
        "\"\"\""
      ],
      "metadata": {
        "id": "TM4d8s3E2rxB"
      },
      "execution_count": null,
      "outputs": []
    },
    {
      "cell_type": "code",
      "source": [
        "# Exibir o resultado 2\n",
        "df_join_df2_2 = spark.sql(join_df2_2)\n",
        "df_join_df2_2.show()"
      ],
      "metadata": {
        "id": "hkd4rTBg22v5"
      },
      "execution_count": null,
      "outputs": []
    },
    {
      "cell_type": "code",
      "source": [
        "# Consulta SQL para calcular as top 10 combinações de município, raça, sexo e grupo mais frequentes, com o percentual por município e ordenação por rank\n",
        "top_combinacoes_df2 = \"\"\"\n",
        "WITH total_combinacoes AS (\n",
        "    SELECT\n",
        "        municipio AS municipio_total,\n",
        "        raca_cor AS raca_cor_total,\n",
        "        sexo AS sexo_total,\n",
        "        COUNT(*) AS total_combinacoes\n",
        "    FROM\n",
        "        df2\n",
        "    WHERE\n",
        "        municipio IS NOT NULL\n",
        "        AND raca_cor IS NOT NULL\n",
        "        AND sexo IS NOT NULL\n",
        "    GROUP BY\n",
        "        municipio, raca_cor, sexo\n",
        ")\n",
        "SELECT\n",
        "    df2.municipio AS municipio_df2,\n",
        "    df2.raca_cor AS raca_cor_df2,\n",
        "    df2.sexo,\n",
        "    df2.grupo,\n",
        "    df2.data_vacinacao,\n",
        "    CONCAT(ROUND(COUNT(*) * 100.0 / t.total_combinacoes, 2), '%') AS percentual,\n",
        "    ROW_NUMBER() OVER (ORDER BY COUNT(*) DESC) AS rank\n",
        "FROM\n",
        "    df2\n",
        "JOIN\n",
        "    total_combinacoes t\n",
        "ON\n",
        "    df2.municipio = t.municipio_total\n",
        "    AND df2.raca_cor = t.raca_cor_total\n",
        "    AND df2.sexo = t.sexo_total\n",
        "GROUP BY\n",
        "    municipio_df2, raca_cor_df2, sexo, grupo, data_vacinacao, t.total_combinacoes\n",
        "ORDER BY\n",
        "    rank\n",
        "LIMIT 10\n",
        "\"\"\""
      ],
      "metadata": {
        "id": "mvUzNgCh3QjC"
      },
      "execution_count": null,
      "outputs": []
    },
    {
      "cell_type": "code",
      "source": [
        "# Executar a consulta SQL para obter as top 10 combinações\n",
        "top_combinacoes_df2 = spark.sql(top_combinacoes_query)\n",
        "top_combinacoes_df2.show()"
      ],
      "metadata": {
        "id": "iLpC-e0Z3jW8"
      },
      "execution_count": null,
      "outputs": []
    },
    {
      "cell_type": "markdown",
      "source": [
        "***Combiando as tabelas DF1 e DF2 ***"
      ],
      "metadata": {
        "id": "uXSaTbTp4Tpy"
      }
    },
    {
      "cell_type": "code",
      "source": [
        "from pyspark.sql.window import Window\n",
        "from pyspark.sql.functions import rank, sum"
      ],
      "metadata": {
        "id": "4siQEqeM58P_"
      },
      "execution_count": null,
      "outputs": []
    },
    {
      "cell_type": "code",
      "source": [
        "from pyspark.sql.functions import col"
      ],
      "metadata": {
        "id": "8L7xBD7O7ttU"
      },
      "execution_count": null,
      "outputs": []
    },
    {
      "cell_type": "code",
      "source": [
        "# Exibir o esquema das DataFrames\n",
        "print(\"Esquema de df1:\")\n",
        "df1.printSchema()\n",
        "\n",
        "print(\"Esquema de df2:\")\n",
        "df2.printSchema()\n"
      ],
      "metadata": {
        "collapsed": true,
        "id": "bQv1DQnw6Z9b"
      },
      "execution_count": null,
      "outputs": []
    },
    {
      "cell_type": "code",
      "source": [
        "union_df12 = \"\"\"\n",
        "SELECT faixa_etaria, sexo, raca_cor, grupo,\n",
        "       SUM(total_por_genero) AS total_por_genero,\n",
        "       CONCAT(ROUND(SUM(total_por_genero) * 100.0 / SUM(SUM(total_por_genero)) OVER(), 2), '%') AS percentual\n",
        "FROM (\n",
        "    SELECT faixa_etaria, sexo, raca_cor, grupo,\n",
        "           COUNT(*) AS total_por_genero\n",
        "    FROM df1\n",
        "    GROUP BY faixa_etaria, sexo, raca_cor, grupo\n",
        "\n",
        "    UNION ALL\n",
        "\n",
        "    SELECT faixa_etaria, sexo, raca_cor, grupo,\n",
        "           COUNT(*) AS total_por_genero\n",
        "    FROM df2\n",
        "    GROUP BY faixa_etaria, sexo, raca_cor, grupo\n",
        ") combined_data\n",
        "GROUP BY faixa_etaria, sexo, raca_cor, grupo\n",
        "ORDER BY total_por_genero DESC\n",
        "\"\"\"\n",
        "\n",
        "# Executar a consulta SQL para combinar os resultados de df1 e df2\n",
        "combined_result = spark.sql(union_df12)\n",
        "\n",
        "# Exibir o resultado\n",
        "combined_result.show()\n"
      ],
      "metadata": {
        "id": "Jn2UIMsB62z_"
      },
      "execution_count": null,
      "outputs": []
    },
    {
      "cell_type": "code",
      "source": [
        "# Registrar as tabelas temporárias para uso no Spark SQL\n",
        "df1.createOrReplaceTempView(\"df1\")\n",
        "df2.createOrReplaceTempView(\"df2\")\n",
        "\n",
        "# Consulta SQL para obter os top 5 registros combinados com base na coluna vacina_fabricante\n",
        "top_vacina_query = \"\"\"\n",
        "SELECT\n",
        "    vacina_fabricante,\n",
        "    COUNT(*) AS total_vacinacoes\n",
        "FROM\n",
        "    (\n",
        "    SELECT\n",
        "        vacina_fabricante\n",
        "    FROM\n",
        "        df1\n",
        "    UNION ALL\n",
        "    SELECT\n",
        "        vacina_fabricante\n",
        "    FROM\n",
        "        df2\n",
        "    )\n",
        "GROUP BY\n",
        "    vacina_fabricante\n",
        "ORDER BY\n",
        "    total_vacinacoes DESC\n",
        "LIMIT 5\n",
        "\"\"\"\n",
        "\n",
        "# Executar a consulta SQL\n",
        "top_vacina_df = spark.sql(top_vacina_query)\n",
        "\n",
        "# Exibir o resultado\n",
        "top_vacina_df.show()\n"
      ],
      "metadata": {
        "id": "PVsnpeBj_2hf"
      },
      "execution_count": null,
      "outputs": []
    },
    {
      "cell_type": "code",
      "source": [
        "# Salvando os DataFrames limpos em formato Parquet na pasta silver\n",
        "df1_cleaned.write.parquet('silver/vacinados_21_cleaned.parquet')\n",
        "df2_cleaned.write.parquet('silver/vacinados_22_cleaned.parquet')\n",
        "df3_cleaned.write.parquet('silver/vacinados_23_cleaned.parquet')\n",
        "\n"
      ],
      "metadata": {
        "id": "quMvesuOG717"
      },
      "execution_count": null,
      "outputs": []
    },
    {
      "cell_type": "code",
      "source": [
        "# Salvar o DataFrame combinado em formato Parquet na pasta silver\n",
        "combined_result.write.parquet('silver/combined_vacinados.parquet')\n"
      ],
      "metadata": {
        "id": "Z2HIhvYqG-i5"
      },
      "execution_count": null,
      "outputs": []
    },
    {
      "cell_type": "code",
      "source": [
        "# Salvar o DataFrame top_vacina_df em formato Parquet na pasta silver\n",
        "top_vacina_df.write.parquet('silver/top_vacina.parquet')\n"
      ],
      "metadata": {
        "id": "p2W9p2nLHAXP"
      },
      "execution_count": null,
      "outputs": []
    },
    {
      "cell_type": "code",
      "source": [
        "# Confirmando a criação dos arquivos Parquet na pasta silver\n",
        "print(\"Arquivos Parquet criados na pasta silver:\")\n",
        "print(os.listdir('silver'))"
      ],
      "metadata": {
        "id": "mBWvcMWaHBfG"
      },
      "execution_count": null,
      "outputs": []
    },
    {
      "cell_type": "markdown",
      "source": [
        "# Gold\n"
      ],
      "metadata": {
        "id": "SHZp8B80UX8q"
      }
    },
    {
      "cell_type": "code",
      "source": [
        "from pyspark.sql import SparkSession"
      ],
      "metadata": {
        "id": "KkT9jF7QUZXp"
      },
      "execution_count": null,
      "outputs": []
    },
    {
      "cell_type": "code",
      "source": [
        "# Iniciar sessão Spark\n",
        "spark = SparkSession.builder.getOrCreate()"
      ],
      "metadata": {
        "id": "tzvlyPYIIFVf"
      },
      "execution_count": null,
      "outputs": []
    },
    {
      "cell_type": "code",
      "source": [
        "# Carregar os dados da camada Silver\n",
        "df1_cleaned = spark.read.parquet('silver/vacinados_21_cleaned.parquet')\n",
        "df2_cleaned = spark.read.parquet('silver/vacinados_22_cleaned.parquet')\n",
        "df3_cleaned = spark.read.parquet('silver/vacinados_23_cleaned.parquet')\n",
        "combined_result = spark.read.parquet('silver/combined_vacinados.parquet')\n",
        "top_vacina_df = spark.read.parquet('silver/top_vacina.parquet')"
      ],
      "metadata": {
        "id": "zt2tQKb7IIKE"
      },
      "execution_count": null,
      "outputs": []
    },
    {
      "cell_type": "code",
      "source": [
        "# Registrar os DataFrames como tabelas temporárias para uso no Spark SQL\n",
        "df1_cleaned.createOrReplaceTempView(\"df1_cleaned\")\n",
        "df2_cleaned.createOrReplaceTempView(\"df2_cleaned\")\n",
        "df3_cleaned.createOrReplaceTempView(\"df3_cleaned\")"
      ],
      "metadata": {
        "id": "AtzTSR-CINVk"
      },
      "execution_count": null,
      "outputs": []
    },
    {
      "cell_type": "code",
      "source": [
        "# Consulta SQL para obter a vacina e o sexo mais frequente para o ano de 2021\n",
        "gold_query_1 = \"\"\"\n",
        "SELECT vacina_fabricante,\n",
        "       COUNT(*) AS total_vacinacoes,\n",
        "       sexo AS sexo_mais_frequente\n",
        "FROM df1_cleaned\n",
        "GROUP BY vacina_fabricante, sexo\n",
        "ORDER BY total_vacinacoes DESC\n",
        "\"\"\"\n"
      ],
      "metadata": {
        "id": "5K4OMMbpIN8O"
      },
      "execution_count": null,
      "outputs": []
    },
    {
      "cell_type": "code",
      "source": [
        "import numpy as np\n",
        "import matplotlib.pyplot as plt"
      ],
      "metadata": {
        "id": "93cPDeOcRcbL"
      },
      "execution_count": null,
      "outputs": []
    },
    {
      "cell_type": "code",
      "source": [
        "# Executar a consulta SQL\n",
        "df_gold_1 = spark.sql(gold_query_1)\n",
        "\n",
        "# Exibir os resultados\n",
        "df_gold_1.show()"
      ],
      "metadata": {
        "id": "4GbAjuAhInp0"
      },
      "execution_count": null,
      "outputs": []
    },
    {
      "cell_type": "code",
      "source": [
        "# Dados fornecidos\n",
        "vacinas_fabricante = ['3 - COMIRNATY (PFIZER-BIONTECH)', '2 - CHADOX1NCOV-19 (ASTRAZENECA)', '1 - CORONAVAC - SINOVAC', '4 - JANSSEN-COVID-19 (JANSSEN-CILAG)']\n",
        "total_vacinacoes_feminino = [542301, 381694, 176520, 16420]\n",
        "total_vacinacoes_masculino = [410535, 302767, 162106, 15389]\n",
        "\n",
        "# Configuração do gráfico\n",
        "bar_width = 0.35\n",
        "index = np.arange(len(vacinas_fabricante))\n",
        "\n",
        "plt.figure(figsize=(10, 6))\n",
        "\n",
        "plt.bar(index - bar_width/2, total_vacinacoes_feminino, bar_width, label='Feminino', color='skyblue')\n",
        "plt.bar(index + bar_width/2, total_vacinacoes_masculino, bar_width, label='Masculino', color='salmon')\n",
        "\n",
        "# Adicionando rótulos e título\n",
        "plt.xlabel('Fabricante de Vacina')\n",
        "plt.ylabel('Total de Vacinações')\n",
        "plt.title('Total de Vacinações por Fabricante e Sexo em 2021')\n",
        "plt.xticks(index, vacinas_fabricante, rotation=45)\n",
        "plt.legend()\n",
        "\n",
        "# Exibindo o gráfico\n",
        "plt.tight_layout()\n",
        "plt.show()"
      ],
      "metadata": {
        "id": "MJw4wK-ufPif"
      },
      "execution_count": null,
      "outputs": []
    },
    {
      "cell_type": "code",
      "source": [
        "# Consulta SQL para obter a vacina e o sexo mais frequente para o ano de 2022\n",
        "gold_query_2 = \"\"\"\n",
        "SELECT vacina_fabricante,\n",
        "       COUNT(*) AS total_vacinacoes,\n",
        "       sexo AS sexo_mais_frequente\n",
        "FROM df2_cleaned\n",
        "GROUP BY vacina_fabricante, sexo\n",
        "ORDER BY total_vacinacoes DESC\n",
        "\"\"\"\n"
      ],
      "metadata": {
        "id": "srj8fHRDISlF"
      },
      "execution_count": null,
      "outputs": []
    },
    {
      "cell_type": "code",
      "source": [
        "# Executar a consulta SQL\n",
        "df_gold_2 = spark.sql(gold_query_2)\n",
        "\n",
        "# Exibir os resultados\n",
        "df_gold_2.show()"
      ],
      "metadata": {
        "id": "dgvYo2iBIubC"
      },
      "execution_count": null,
      "outputs": []
    },
    {
      "cell_type": "code",
      "source": [
        "# Dados fornecidos\n",
        "vacinas_fabricante = ['3 - COMIRNATY (PFIZER-BIONTECH)', '2 - CHADOX1NCOV-19 (ASTRAZENECA)', '4 - JANSSEN-COVID-19 (JANSSEN-CILAG)',\n",
        "                      '5 - COMIRNATY (PFIZER-BIONTECH)', '1 - CORONAVAC - SINOVAC', '6 - CORONAVAC - BUTANTAN', '7 - PFIZER BABY']\n",
        "total_vacinacoes_feminino = [42614, 23617, 17227, 3280, 1967, 1516, 79]\n",
        "total_vacinacoes_masculino = [30743, 19500, 12944, 5158, 1917, 1871, 68]\n",
        "\n",
        "# Configuração do gráfico\n",
        "bar_width = 0.35\n",
        "index = np.arange(len(vacinas_fabricante))\n",
        "\n",
        "plt.figure(figsize=(10, 6))\n",
        "\n",
        "plt.bar(index - bar_width/2, total_vacinacoes_feminino, bar_width, label='Feminino', color='skyblue')\n",
        "plt.bar(index + bar_width/2, total_vacinacoes_masculino, bar_width, label='Masculino', color='salmon')\n",
        "\n",
        "# Adicionando rótulos e título\n",
        "plt.xlabel('Fabricante de Vacina')\n",
        "plt.ylabel('Total de Vacinações')\n",
        "plt.title('Total de Vacinações por Fabricante e Sexo em 2022')\n",
        "plt.xticks(index, vacinas_fabricante, rotation=45)\n",
        "plt.legend()\n",
        "\n",
        "# Exibindo o gráfico\n",
        "plt.tight_layout()\n",
        "plt.show()"
      ],
      "metadata": {
        "id": "mOpt6a9GezZ9"
      },
      "execution_count": null,
      "outputs": []
    },
    {
      "cell_type": "code",
      "source": [
        "# Consulta SQL para obter a vacina e o sexo mais frequente para o ano de 2023\n",
        "gold_query_3 = \"\"\"\n",
        "SELECT vacina_fabricante,\n",
        "       COUNT(*) AS total_vacinacoes,\n",
        "       sexo AS sexo_mais_frequente\n",
        "FROM df3_cleaned\n",
        "GROUP BY vacina_fabricante, sexo\n",
        "ORDER BY total_vacinacoes DESC\n",
        "\"\"\"\n",
        "\n",
        "df_gold_3 = spark.sql(gold_query_3)"
      ],
      "metadata": {
        "id": "YSjt4FkCITV2"
      },
      "execution_count": null,
      "outputs": []
    },
    {
      "cell_type": "code",
      "source": [
        "# Executar a consulta SQL\n",
        "df_gold_3 = spark.sql(gold_query_3)\n",
        "\n",
        "# Exibir os resultados\n",
        "df_gold_3.show()"
      ],
      "metadata": {
        "id": "IQdYn6mhI-3U"
      },
      "execution_count": null,
      "outputs": []
    },
    {
      "cell_type": "code",
      "source": [
        "# Dados fornecidos\n",
        "vacinas_fabricante = ['3 - COMIRNATY (PFIZER-BIONTECH)', '2 - CHADOX1NCOV-19 (ASTRAZENECA)', '4 - JANSSEN-COVID-19 (JANSSEN-CILAG)',\n",
        "                      '5 - COMIRNATY (PFIZER-BIONTECH)', '1 - CORONAVAC - SINOVAC', '6 - CORONAVAC - BUTANTAN', '7 - PFIZER BABY']\n",
        "total_vacinacoes_feminino = [42614, 23617, 17227, 3280, 1967, 1516, 79]\n",
        "total_vacinacoes_masculino = [30743, 19500, 12944, 5158, 1917, 1871, 68]\n",
        "\n",
        "# Configuração do gráfico\n",
        "bar_width = 0.35\n",
        "index = range(len(vacinas_fabricante))\n",
        "\n",
        "plt.figure(figsize=(10, 6))\n",
        "\n",
        "plt.bar(index, total_vacinacoes_feminino, bar_width, label='Feminino', color='skyblue')\n",
        "plt.bar([i + bar_width for i in index], total_vacinacoes_masculino, bar_width, label='Masculino', color='salmon')\n",
        "\n",
        "# Adicionando rótulos e título\n",
        "plt.xlabel('Fabricante de Vacina')\n",
        "plt.ylabel('Total de Vacinações')\n",
        "plt.title('Total de Vacinações por Fabricante e Sexo em 2023')\n",
        "plt.xticks([i + bar_width / 2 for i in index], vacinas_fabricante, rotation=45)\n",
        "plt.legend()\n",
        "\n",
        "# Exibindo o gráfico\n",
        "plt.tight_layout()\n",
        "plt.show()"
      ],
      "metadata": {
        "id": "oQcFLdZQeeP5"
      },
      "execution_count": null,
      "outputs": []
    },
    {
      "cell_type": "code",
      "source": [
        "# Consulta SQL para obter os dados por faixa etária, sexo, raça e grupo\n",
        "gold_query_4 = \"\"\"\n",
        "SELECT faixa_etaria, sexo, raca_cor, grupo,\n",
        "       COUNT(*) AS total_vacinacoes,\n",
        "       CONCAT(ROUND(COUNT(*) * 100.0 / SUM(COUNT(*)) OVER(), 2), '%') AS percentual\n",
        "FROM df1_cleaned\n",
        "GROUP BY faixa_etaria, sexo, raca_cor, grupo\n",
        "ORDER BY total_vacinacoes DESC\n",
        "\"\"\"\n",
        "\n",
        "df_gold_4 = spark.sql(gold_query_4)"
      ],
      "metadata": {
        "id": "Ys5prwn6IVEA"
      },
      "execution_count": null,
      "outputs": []
    },
    {
      "cell_type": "code",
      "source": [
        "# Executar a consulta SQL\n",
        "df_gold_4 = spark.sql(gold_query_4)\n",
        "\n",
        "# Exibir os resultados\n",
        "df_gold_4.show()"
      ],
      "metadata": {
        "id": "TPHi0MYhJrS6"
      },
      "execution_count": null,
      "outputs": []
    },
    {
      "cell_type": "code",
      "source": [
        "# Consulta SQL para obter a vacina e o sexo mais frequente combinando todos os anos\n",
        "gold_query_combined_vacina_sexo = \"\"\"\n",
        "SELECT vacina_fabricante,\n",
        "       COUNT(*) AS total_vacinacoes,\n",
        "       sexo AS sexo_mais_frequente\n",
        "FROM (\n",
        "    SELECT vacina_fabricante, sexo FROM df1_cleaned\n",
        "    UNION ALL\n",
        "    SELECT vacina_fabricante, sexo FROM df2_cleaned\n",
        "    UNION ALL\n",
        "    SELECT vacina_fabricante, sexo FROM df3_cleaned\n",
        ")\n",
        "GROUP BY vacina_fabricante, sexo\n",
        "ORDER BY total_vacinacoes DESC\n",
        "\"\"\""
      ],
      "metadata": {
        "id": "tVh7ehU6Jomu"
      },
      "execution_count": null,
      "outputs": []
    },
    {
      "cell_type": "code",
      "source": [
        "# Executar a consulta SQL\n",
        "df_gold_combined_vacina_sexo = spark.sql(gold_query_combined_vacina_sexo)\n"
      ],
      "metadata": {
        "id": "reBor77bJ-gZ"
      },
      "execution_count": null,
      "outputs": []
    },
    {
      "cell_type": "code",
      "source": [
        "# Exibir o resultado\n",
        "df_gold_combined_vacina_sexo.show()"
      ],
      "metadata": {
        "id": "lcchyvqKK6rB"
      },
      "execution_count": null,
      "outputs": []
    },
    {
      "cell_type": "code",
      "source": [
        "# Dados fornecidos\n",
        "data = {\n",
        "    'vacina_fabricante': ['3 - COMIRNATY (PFIZER)', '2 - CHADOX1NCOV-19 (ASTRAZENECA)', '1 - CORONAVAC - SINOVAC/INSTITUTO BUTANTAN', '4 - JANSSEN-CILAG', '5 - COMIRNATY (PFIZER)', '6 - CORONAVAC - SINOVAC/INSTITUTO BUTANTAN', '7 - PFIZER-BIONTECH'],\n",
        "    'total_vacinacoes': [627529, 428928, 180454, 50874, 10316, 3742, 294]\n",
        "}\n",
        "\n",
        "# Criando o gráfico de barras\n",
        "plt.figure(figsize=(10, 6))\n",
        "plt.bar(data['vacina_fabricante'], data['total_vacinacoes'], color='skyblue')\n",
        "\n",
        "# Adicionando rótulos e título\n",
        "plt.xlabel('Fabricante de Vacina')\n",
        "plt.ylabel('Total de Vacinações')\n",
        "plt.title('Total de Vacinações por Fabricante')\n",
        "\n",
        "# Exibindo o gráfico\n",
        "plt.xticks(rotation=45, ha='right')\n",
        "plt.tight_layout()\n",
        "plt.show()"
      ],
      "metadata": {
        "id": "yc1NQUeTbrLg"
      },
      "execution_count": null,
      "outputs": []
    },
    {
      "cell_type": "code",
      "source": [
        "# Consulta SQL para obter dados por faixa-etaria, sexo, raça e grupo, combinando todos os anos\n",
        "gold_query_combined_faixa_etaria = \"\"\"\n",
        "SELECT faixa_etaria, sexo, raca_cor, grupo,\n",
        "       COUNT(*) AS total_por_genero,\n",
        "       CONCAT(ROUND(COUNT(*) * 100.0 / SUM(COUNT(*)) OVER(), 2), '%') AS percentual\n",
        "FROM (\n",
        "    SELECT faixa_etaria, sexo, raca_cor, grupo FROM df1_cleaned\n",
        "    UNION ALL\n",
        "    SELECT faixa_etaria, sexo, raca_cor, grupo FROM df2_cleaned\n",
        "    UNION ALL\n",
        "    SELECT faixa_etaria, sexo, raca_cor, grupo FROM df3_cleaned\n",
        ")\n",
        "GROUP BY faixa_etaria, sexo, raca_cor, grupo\n",
        "ORDER BY total_por_genero DESC\n",
        "\"\"\""
      ],
      "metadata": {
        "id": "91GGQcQWKJgj"
      },
      "execution_count": null,
      "outputs": []
    },
    {
      "cell_type": "code",
      "source": [
        "# Executar a consulta SQL\n",
        "df_gold_combined_faixa_etaria = spark.sql(gold_query_combined_faixa_etaria)"
      ],
      "metadata": {
        "id": "YKeStVOYKNCg"
      },
      "execution_count": null,
      "outputs": []
    },
    {
      "cell_type": "code",
      "source": [
        "# Exibir o resultado\n",
        "df_gold_combined_faixa_etaria.show()"
      ],
      "metadata": {
        "id": "dpJhyInHKsXy"
      },
      "execution_count": null,
      "outputs": []
    },
    {
      "cell_type": "code",
      "source": [
        "# Dados fornecidos\n",
        "faixa_etaria = ['35 a 39 anos', '30 a 34 anos', '25 a 29 anos', '40 a 44 anos', '20 a 24 anos']\n",
        "total_por_genero_feminino = [45583, 41704, 41161, 40484, 40148]\n",
        "total_por_genero_masculino = [38432, 35458, 36614, 33425, 36808]\n",
        "\n",
        "# Configuração do gráfico\n",
        "bar_width = 0.35\n",
        "index = range(len(faixa_etaria))\n",
        "\n",
        "# Criando as barras\n",
        "plt.figure(figsize=(10, 6))\n",
        "plt.bar(index, total_por_genero_feminino, bar_width, label='Feminino', color='skyblue')\n",
        "plt.bar([i + bar_width for i in index], total_por_genero_masculino, bar_width, label='Masculino', color='salmon')\n",
        "\n",
        "# Adicionando rótulos e título\n",
        "plt.xlabel('Faixa Etária')\n",
        "plt.ylabel('Total de Vacinações')\n",
        "plt.title('Total de Vacinações por Faixa Etária e Gênero')\n",
        "plt.xticks([i + bar_width / 2 for i in index], faixa_etaria)\n",
        "plt.legend()\n",
        "\n",
        "# Exibindo o gráfico\n",
        "plt.tight_layout()\n",
        "plt.show()"
      ],
      "metadata": {
        "id": "u6uCXKPjdOmD"
      },
      "execution_count": null,
      "outputs": []
    },
    {
      "cell_type": "code",
      "source": [
        "# Análise da vacinação por fabricante, sexo, grupo e data da vacinação\n",
        "gold_query_top_combinacoes = \"\"\"\n",
        "WITH total_combinacoes AS (\n",
        "    SELECT municipio, raca_cor, sexo,\n",
        "           COUNT(*) AS total_combinacoes\n",
        "    FROM (\n",
        "        SELECT municipio, raca_cor, sexo FROM df1_cleaned\n",
        "        UNION ALL\n",
        "        SELECT municipio, raca_cor, sexo FROM df2_cleaned\n",
        "        UNION ALL\n",
        "        SELECT municipio, raca_cor, sexo FROM df3_cleaned\n",
        "    )\n",
        "    WHERE municipio IS NOT NULL AND raca_cor IS NOT NULL AND sexo IS NOT NULL\n",
        "    GROUP BY municipio, raca_cor, sexo\n",
        ")\n",
        "SELECT combined.municipio, combined.raca_cor, combined.sexo, combined.grupo,\n",
        "       COUNT(*) AS total_por_combinacao,\n",
        "       CONCAT(ROUND(COUNT(*) * 100.0 / t.total_combinacoes, 2), '%') AS percentual,\n",
        "       ROW_NUMBER() OVER (ORDER BY COUNT(*) DESC) AS rank\n",
        "FROM (\n",
        "    SELECT municipio, raca_cor, sexo, grupo FROM df1_cleaned\n",
        "    UNION ALL\n",
        "    SELECT municipio, raca_cor, sexo, grupo FROM df2_cleaned\n",
        "    UNION ALL\n",
        "    SELECT municipio, raca_cor, sexo, grupo FROM df3_cleaned\n",
        ") combined\n",
        "JOIN total_combinacoes t\n",
        "ON combined.municipio = t.municipio AND combined.raca_cor = t.raca_cor AND combined.sexo = t.sexo\n",
        "GROUP BY combined.municipio, combined.raca_cor, combined.sexo, combined.grupo, t.total_combinacoes\n",
        "ORDER BY rank\n",
        "LIMIT 10\n",
        "\"\"\""
      ],
      "metadata": {
        "id": "CfPi-OkjKNy1"
      },
      "execution_count": null,
      "outputs": []
    },
    {
      "cell_type": "code",
      "source": [
        "# Executar a consulta SQL\n",
        "df_gold_top_combinacoes = spark.sql(gold_query_top_combinacoes)"
      ],
      "metadata": {
        "id": "1PecIGICKQzz"
      },
      "execution_count": null,
      "outputs": []
    },
    {
      "cell_type": "code",
      "source": [
        "# Exibir o resultado\n",
        "df_gold_top_combinacoes.show()"
      ],
      "metadata": {
        "id": "geunmI3cKlz8"
      },
      "execution_count": null,
      "outputs": []
    },
    {
      "cell_type": "code",
      "source": [
        "import matplotlib.pyplot as plt\n",
        "\n",
        "# Dados fornecidos\n",
        "combinacoes = ['PARDA_FEMININO_PÚBLICO EM GERAL', 'PARDA_MASCULINO_PÚBLICO EM GERAL', 'BRANCA_FEMININO_PÚBLICO EM GERAL',\n",
        "               'BRANCA_MASCULINO_PÚBLICO EM GERAL', 'PRETA_MASCULINO_PÚBLICO EM GERAL', 'PRETA_FEMININO_PÚBLICO EM GERAL',\n",
        "               'BRANCA_FEMININO_IDOSOS', 'BRANCA_FEMININO_PESSOAS COM COMORBIDADES', 'PARDA_FEMININO_PESSOAS COM COMORBIDADES',\n",
        "               'BRANCA_MASCULINO_PESSOAS COM COMORBIDADES']\n",
        "total_por_combinacao = [300316, 257595, 204601, 169159, 83606, 82255, 77509, 65420, 63472, 62932]\n",
        "\n",
        "# Configuração do gráfico\n",
        "plt.figure(figsize=(10, 6))\n",
        "plt.barh(combinacoes, total_por_combinacao, color='skyblue')\n",
        "\n",
        "# Adicionando rótulos e título\n",
        "plt.xlabel('Total de Vacinações')\n",
        "plt.ylabel('Combinação de Raça, Sexo e Grupo')\n",
        "plt.title('Total de Vacinações por Combinação em Recife')\n",
        "\n",
        "# Exibindo o gráfico\n",
        "plt.gca().invert_yaxis()  # Inverter eixo y para ter a combinação mais importante no topo\n",
        "plt.show()"
      ],
      "metadata": {
        "id": "N_nf8byYd09X"
      },
      "execution_count": null,
      "outputs": []
    },
    {
      "cell_type": "code",
      "source": [
        "# Salvar os resultados no estágio Gold\n",
        "df_gold_1.write.parquet('gold/vacina_sexo_2021.parquet')\n",
        "df_gold_2.write.parquet('gold/vacina_sexo_2022.parquet')\n",
        "df_gold_3.write.parquet('gold/vacina_sexo_2023.parquet')\n",
        "df_gold_4.write.parquet('gold/faixa_etaria_2021.parquet')\n",
        "df_gold_combined_vacina_sexo.write.parquet('gold/combined_vacina_sexo.parquet')\n",
        "df_gold_combined_faixa_etaria.write.parquet('gold/combined_faixa_etaria.parquet')\n",
        "df_gold_top_combinacoes.write.parquet('gold/top_combinacoes.parquet')"
      ],
      "metadata": {
        "id": "q45cV_XGIZRm"
      },
      "execution_count": null,
      "outputs": []
    },
    {
      "cell_type": "code",
      "source": [
        "# Confirmando a criação dos arquivos Parquet na pasta Gold\n",
        "print(\"Arquivos Parquet criados na pasta gold:\")\n",
        "print(os.listdir('gold'))"
      ],
      "metadata": {
        "id": "w_-rp78yIa9o"
      },
      "execution_count": null,
      "outputs": []
    }
  ]
}